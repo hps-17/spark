{
 "cells": [
  {
   "cell_type": "code",
   "execution_count": 48,
   "id": "b57bbdc0",
   "metadata": {},
   "outputs": [],
   "source": [
    "import sys\n",
    "from pyspark.sql import SparkSession\n",
    "from pyspark.sql.functions import *\n",
    "from pyspark.sql import functions\n",
    "from pyspark.sql.window import Window"
   ]
  },
  {
   "cell_type": "code",
   "execution_count": 3,
   "id": "8bdfe6a3",
   "metadata": {},
   "outputs": [],
   "source": [
    "parquet_dataset=\"/home/hari/Downloads/LearningSparkV2-master/parquet_files/userdata1.parquet\""
   ]
  },
  {
   "cell_type": "markdown",
   "id": "8b9af820",
   "metadata": {},
   "source": [
    "    Main method definition and spark object creation"
   ]
  },
  {
   "cell_type": "code",
   "execution_count": 4,
   "id": "988d978b",
   "metadata": {},
   "outputs": [
    {
     "name": "stderr",
     "output_type": "stream",
     "text": [
      "23/05/01 09:19:34 WARN Utils: Your hostname, hps17 resolves to a loopback address: 127.0.1.1; using 192.168.236.132 instead (on interface ens33)\n",
      "23/05/01 09:19:34 WARN Utils: Set SPARK_LOCAL_IP if you need to bind to another address\n",
      "Using Spark's default log4j profile: org/apache/spark/log4j-defaults.properties\n",
      "Setting default log level to \"WARN\".\n",
      "To adjust logging level use sc.setLogLevel(newLevel). For SparkR, use setLogLevel(newLevel).\n",
      "23/05/01 09:19:35 WARN NativeCodeLoader: Unable to load native-hadoop library for your platform... using builtin-java classes where applicable\n"
     ]
    }
   ],
   "source": [
    "if __name__ == \"__main__\" :\n",
    "    spark=(SparkSession\n",
    "           .builder\n",
    "           .appName(\"PrPg2_DF_manipulation\")\n",
    "           .getOrCreate()\n",
    "          )"
   ]
  },
  {
   "cell_type": "code",
   "execution_count": 5,
   "id": "aa05f714",
   "metadata": {},
   "outputs": [
    {
     "name": "stderr",
     "output_type": "stream",
     "text": [
      "\r",
      "[Stage 0:>                                                          (0 + 1) / 1]\r",
      "\r",
      "                                                                                \r"
     ]
    }
   ],
   "source": [
    "parq_DF=spark.read.format(\"parquet\").load(parquet_dataset)"
   ]
  },
  {
   "cell_type": "code",
   "execution_count": 6,
   "id": "846a19e0",
   "metadata": {},
   "outputs": [
    {
     "name": "stderr",
     "output_type": "stream",
     "text": [
      "\r",
      "[Stage 1:>                                                          (0 + 1) / 1]\r"
     ]
    },
    {
     "name": "stdout",
     "output_type": "stream",
     "text": [
      "+-------------------+---+----------+---------+--------------------+------+---------------+-------------------+--------------------+----------+---------+--------------------+--------------------+\n",
      "|  registration_dttm| id|first_name|last_name|               email|gender|     ip_address|                 cc|             country| birthdate|   salary|               title|            comments|\n",
      "+-------------------+---+----------+---------+--------------------+------+---------------+-------------------+--------------------+----------+---------+--------------------+--------------------+\n",
      "|2016-02-03 13:25:29|  1|    Amanda|   Jordan|    ajordan0@com.com|Female|    1.197.201.2|   6759521864920116|           Indonesia|  3/8/1971| 49756.53|    Internal Auditor|               1E+02|\n",
      "|2016-02-03 22:34:03|  2|    Albert|  Freeman|     afreeman1@is.gd|  Male| 218.111.175.34|                   |              Canada| 1/16/1968|150280.17|       Accountant IV|                    |\n",
      "|2016-02-03 06:39:31|  3|    Evelyn|   Morgan|emorgan2@altervis...|Female|   7.161.136.94|   6767119071901597|              Russia|  2/1/1960|144972.51| Structural Engineer|                    |\n",
      "|2016-02-03 06:06:21|  4|    Denise|    Riley|    driley3@gmpg.org|Female|  140.35.109.83|   3576031598965625|               China|  4/8/1997| 90263.05|Senior Cost Accou...|                    |\n",
      "|2016-02-03 10:35:31|  5|    Carlos|    Burns|cburns4@miitbeian...|      | 169.113.235.40|   5602256255204850|        South Africa|          |     null|                    |                    |\n",
      "|2016-02-03 12:52:34|  6|   Kathryn|    White|  kwhite5@google.com|Female| 195.131.81.179|   3583136326049310|           Indonesia| 2/25/1983| 69227.11|   Account Executive|                    |\n",
      "|2016-02-03 14:03:08|  7|    Samuel|   Holmes|sholmes6@foxnews.com|  Male| 232.234.81.197|   3582641366974690|            Portugal|12/18/1987| 14247.62|Senior Financial ...|                    |\n",
      "|2016-02-03 12:17:06|  8|     Harry|   Howell| hhowell7@eepurl.com|  Male|   91.235.51.73|                   |Bosnia and Herzeg...|  3/1/1962|186469.43|    Web Developer IV|                    |\n",
      "|2016-02-03 09:22:53|  9|      Jose|   Foster|   jfoster8@yelp.com|  Male|   132.31.53.61|                   |         South Korea| 3/27/1992|231067.84|Software Test Eng...|               1E+02|\n",
      "|2016-02-03 23:59:47| 10|     Emily|  Stewart|estewart9@opensou...|Female| 143.28.251.245|   3574254110301671|             Nigeria| 1/28/1997| 27234.28|     Health Coach IV|                    |\n",
      "|2016-02-03 05:40:42| 11|     Susan|  Perkins| sperkinsa@patch.com|Female|    180.85.0.62|   3573823609854134|              Russia|          |210001.95|                    |                    |\n",
      "|2016-02-03 23:34:34| 12|     Alice|    Berry|aberryb@wikipedia...|Female| 246.225.12.189|   4917830851454417|               China| 8/12/1968| 22944.53|    Quality Engineer|                    |\n",
      "|2016-02-04 00:18:17| 13|    Justin|    Berry|jberryc@usatoday.com|  Male|   157.7.146.43|6331109912871813274|              Zambia| 8/15/1975| 44165.46|Structural Analys...|                    |\n",
      "|2016-02-04 03:16:52| 14|     Kathy| Reynolds|kreynoldsd@redcro...|Female|  81.254.172.13|   5537178462965976|Bosnia and Herzeg...| 6/27/1970|286592.99|           Librarian|                    |\n",
      "|2016-02-03 14:23:23| 15|   Dorothy|   Hudson|dhudsone@blogger.com|Female|       8.59.7.0|   3542586858224170|               Japan|12/20/1989|157099.71|  Nurse Practicioner|<script>alert('hi...|\n",
      "|2016-02-03 06:14:01| 16|     Bruce|   Willis|bwillisf@bluehost...|  Male|239.182.219.189|   3573030625927601|              Brazil|          |239100.65|                    |                    |\n",
      "|2016-02-03 06:27:45| 17|     Emily|  Andrews|eandrewsg@cornell...|Female| 29.231.180.172|     30271790537626|              Russia| 4/13/1990|116800.65|        Food Chemist|                    |\n",
      "|2016-02-03 22:14:24| 18|   Stephen|  Wallace|swallaceh@netvibe...|  Male|  152.49.213.62|   5433943468526428|             Ukraine| 1/15/1978|248877.99|Account Represent...|                    |\n",
      "|2016-02-03 17:15:54| 19|  Clarence|   Lawson|clawsoni@vkontakt...|  Male| 107.175.15.152|   3544052814080964|              Russia|          |177122.99|                    |                    |\n",
      "|2016-02-03 16:00:36| 20|   Rebecca|     Bell| rbellj@bandcamp.com|Female|172.215.104.127|                   |               China|          |137251.19|                    |                    |\n",
      "+-------------------+---+----------+---------+--------------------+------+---------------+-------------------+--------------------+----------+---------+--------------------+--------------------+\n",
      "only showing top 20 rows\n",
      "\n",
      "root\n",
      " |-- registration_dttm: timestamp (nullable = true)\n",
      " |-- id: integer (nullable = true)\n",
      " |-- first_name: string (nullable = true)\n",
      " |-- last_name: string (nullable = true)\n",
      " |-- email: string (nullable = true)\n",
      " |-- gender: string (nullable = true)\n",
      " |-- ip_address: string (nullable = true)\n",
      " |-- cc: string (nullable = true)\n",
      " |-- country: string (nullable = true)\n",
      " |-- birthdate: string (nullable = true)\n",
      " |-- salary: double (nullable = true)\n",
      " |-- title: string (nullable = true)\n",
      " |-- comments: string (nullable = true)\n",
      "\n"
     ]
    },
    {
     "name": "stderr",
     "output_type": "stream",
     "text": [
      "\r",
      "                                                                                \r"
     ]
    }
   ],
   "source": [
    "parq_DF.show()\n",
    "parq_DF.printSchema()"
   ]
  },
  {
   "cell_type": "markdown",
   "id": "e03ddccf",
   "metadata": {},
   "source": [
    "Scenario:\n",
    "1. use select function to fetch selectiv column from DF\n",
    "2. Where clause to limit the records/data\n",
    "3. filter vs where function usage\n",
    "4."
   ]
  },
  {
   "cell_type": "code",
   "execution_count": 18,
   "id": "d64af135",
   "metadata": {},
   "outputs": [
    {
     "name": "stdout",
     "output_type": "stream",
     "text": [
      "+--------------------+-----+------+\n",
      "|             country|title|gender|\n",
      "+--------------------+-----+------+\n",
      "|        South Africa|     |      |\n",
      "|              Russia|     |Female|\n",
      "|              Brazil|     |  Male|\n",
      "|              Russia|     |  Male|\n",
      "|               China|     |Female|\n",
      "|            Tanzania|     |  Male|\n",
      "|              Russia|     |Female|\n",
      "|       United States|     |Female|\n",
      "|            Thailand|     |  Male|\n",
      "|       United States|     |Female|\n",
      "|              France|     |Female|\n",
      "|               China|     |Female|\n",
      "|Central African R...|     |  Male|\n",
      "|            Ethiopia|     |Female|\n",
      "|               China|     |  Male|\n",
      "|              Brazil|     |Female|\n",
      "|           Indonesia|     |  Male|\n",
      "|               China|     |Female|\n",
      "|              France|     |  Male|\n",
      "|           Indonesia|     |Female|\n",
      "+--------------------+-----+------+\n",
      "only showing top 20 rows\n",
      "\n"
     ]
    }
   ],
   "source": [
    "(parq_DF.select(\"country\",\"title\",\"gender\")\n",
    " .where(trim(col(\"title\")) == '')).show()"
   ]
  },
  {
   "cell_type": "markdown",
   "id": "774b5d82",
   "metadata": {},
   "source": [
    "# DF manipulation\n",
    "\n",
    "> when & otherwise (equivalent to If - else conditional block)\n",
    "> trim\n",
    "> withColumn functions\n",
    "> drop ->> to dorp column in DF\n",
    "> withColumnRenamed\n",
    "> filter & where - both produce the samee output\n",
    "> groupBy(), count() and orderBy()window function\n",
    "> WINDOW functions:\n",
    "    > rank()\n",
    "    > dense_rank()\n",
    "    > row_numberr()\n",
    "    > percent_rank()\n",
    "    > ntile()\n",
    "    \n",
    "    "
   ]
  },
  {
   "cell_type": "code",
   "execution_count": 59,
   "id": "78dcc37f",
   "metadata": {},
   "outputs": [
    {
     "name": "stdout",
     "output_type": "stream",
     "text": [
      "root\n",
      " |-- title_clnd: string (nullable = true)\n",
      " |-- country: string (nullable = true)\n",
      " |-- Gender_Orientation: string (nullable = true)\n",
      "\n"
     ]
    },
    {
     "name": "stderr",
     "output_type": "stream",
     "text": [
      "                                                                                \r"
     ]
    },
    {
     "name": "stdout",
     "output_type": "stream",
     "text": [
      "+--------------------+----------------+------------------+---+\n",
      "|          title_clnd|         country|Gender_Orientation| ID|\n",
      "+--------------------+----------------+------------------+---+\n",
      "|            61871.37|        \"Bonaire|              Male|  1|\n",
      "| Account Coordinator|         Finland|            Female|  1|\n",
      "| Account Coordinator|           Japan|              Male|  2|\n",
      "| Account Coordinator|         Nigeria|              Male|  3|\n",
      "| Account Coordinator|     Philippines|            Female|  4|\n",
      "|   Account Executive|   Aland Islands|              Male|  1|\n",
      "|   Account Executive|          Canada|              Male|  2|\n",
      "|   Account Executive|           China|            Female|  3|\n",
      "|   Account Executive|           China|            Female|  4|\n",
      "|   Account Executive|          Guinea|            Female|  5|\n",
      "|   Account Executive|       Indonesia|            Female|  6|\n",
      "|   Account Executive|       Indonesia|              Male|  7|\n",
      "|   Account Executive|Papua New Guinea|              Male|  8|\n",
      "|   Account Executive|          Russia|            Female|  9|\n",
      "|Account Represent...|         Ukraine|              Male|  1|\n",
      "|Account Represent...|       Venezuela|              Male|  2|\n",
      "|Account Represent...|          Canada|              Male|  1|\n",
      "|Account Represent...|         Croatia|              Male|  2|\n",
      "|        Accountant I|          Brazil|              Male|  1|\n",
      "|        Accountant I|  Czech Republic|              Male|  2|\n",
      "+--------------------+----------------+------------------+---+\n",
      "only showing top 20 rows\n",
      "\n"
     ]
    },
    {
     "name": "stderr",
     "output_type": "stream",
     "text": [
      "                                                                                \r"
     ]
    },
    {
     "name": "stdout",
     "output_type": "stream",
     "text": [
      "+--------------------+----------------+------------------+-------+\n",
      "|          title_clnd|         country|Gender_Orientation|Rank_ID|\n",
      "+--------------------+----------------+------------------+-------+\n",
      "|            61871.37|        \"Bonaire|              Male|      1|\n",
      "| Account Coordinator|         Finland|            Female|      1|\n",
      "| Account Coordinator|           Japan|              Male|      2|\n",
      "| Account Coordinator|         Nigeria|              Male|      3|\n",
      "| Account Coordinator|     Philippines|            Female|      4|\n",
      "|   Account Executive|   Aland Islands|              Male|      1|\n",
      "|   Account Executive|          Canada|              Male|      2|\n",
      "|   Account Executive|           China|            Female|      3|\n",
      "|   Account Executive|           China|            Female|      3|\n",
      "|   Account Executive|          Guinea|            Female|      5|\n",
      "|   Account Executive|       Indonesia|            Female|      6|\n",
      "|   Account Executive|       Indonesia|              Male|      6|\n",
      "|   Account Executive|Papua New Guinea|              Male|      8|\n",
      "|   Account Executive|          Russia|            Female|      9|\n",
      "|Account Represent...|         Ukraine|              Male|      1|\n",
      "|Account Represent...|       Venezuela|              Male|      2|\n",
      "|Account Represent...|          Canada|              Male|      1|\n",
      "|Account Represent...|         Croatia|              Male|      2|\n",
      "|        Accountant I|          Brazil|              Male|      1|\n",
      "|        Accountant I|  Czech Republic|              Male|      2|\n",
      "+--------------------+----------------+------------------+-------+\n",
      "only showing top 20 rows\n",
      "\n",
      "+--------------------+----------------+------------------+------------------+\n",
      "|          title_clnd|         country|Gender_Orientation|      percent_Rank|\n",
      "+--------------------+----------------+------------------+------------------+\n",
      "|            61871.37|        \"Bonaire|              Male|               0.0|\n",
      "| Account Coordinator|         Finland|            Female|               0.0|\n",
      "| Account Coordinator|           Japan|              Male|0.3333333333333333|\n",
      "| Account Coordinator|         Nigeria|              Male|0.6666666666666666|\n",
      "| Account Coordinator|     Philippines|            Female|               1.0|\n",
      "|   Account Executive|   Aland Islands|              Male|               0.0|\n",
      "|   Account Executive|          Canada|              Male|             0.125|\n",
      "|   Account Executive|           China|            Female|              0.25|\n",
      "|   Account Executive|           China|            Female|              0.25|\n",
      "|   Account Executive|          Guinea|            Female|               0.5|\n",
      "|   Account Executive|       Indonesia|            Female|             0.625|\n",
      "|   Account Executive|       Indonesia|              Male|             0.625|\n",
      "|   Account Executive|Papua New Guinea|              Male|             0.875|\n",
      "|   Account Executive|          Russia|            Female|               1.0|\n",
      "|Account Represent...|         Ukraine|              Male|               0.0|\n",
      "|Account Represent...|       Venezuela|              Male|               1.0|\n",
      "|Account Represent...|          Canada|              Male|               0.0|\n",
      "|Account Represent...|         Croatia|              Male|               1.0|\n",
      "|        Accountant I|          Brazil|              Male|               0.0|\n",
      "|        Accountant I|  Czech Republic|              Male|               0.5|\n",
      "+--------------------+----------------+------------------+------------------+\n",
      "only showing top 20 rows\n",
      "\n"
     ]
    },
    {
     "name": "stderr",
     "output_type": "stream",
     "text": [
      "\r",
      "[Stage 74:>                                                         (0 + 0) / 1]\r",
      "\r",
      "[Stage 74:>                                                         (0 + 1) / 1]\r"
     ]
    },
    {
     "name": "stdout",
     "output_type": "stream",
     "text": [
      "+--------------------+----------------+------------------+-----+\n",
      "|          title_clnd|         country|Gender_Orientation|ntile|\n",
      "+--------------------+----------------+------------------+-----+\n",
      "|            61871.37|        \"Bonaire|              Male|    1|\n",
      "| Account Coordinator|         Finland|            Female|    1|\n",
      "| Account Coordinator|           Japan|              Male|    1|\n",
      "| Account Coordinator|         Nigeria|              Male|    2|\n",
      "| Account Coordinator|     Philippines|            Female|    3|\n",
      "|   Account Executive|   Aland Islands|              Male|    1|\n",
      "|   Account Executive|          Canada|              Male|    1|\n",
      "|   Account Executive|           China|            Female|    1|\n",
      "|   Account Executive|           China|            Female|    2|\n",
      "|   Account Executive|          Guinea|            Female|    2|\n",
      "|   Account Executive|       Indonesia|            Female|    2|\n",
      "|   Account Executive|       Indonesia|              Male|    3|\n",
      "|   Account Executive|Papua New Guinea|              Male|    3|\n",
      "|   Account Executive|          Russia|            Female|    3|\n",
      "|Account Represent...|         Ukraine|              Male|    1|\n",
      "|Account Represent...|       Venezuela|              Male|    2|\n",
      "|Account Represent...|          Canada|              Male|    1|\n",
      "|Account Represent...|         Croatia|              Male|    2|\n",
      "|        Accountant I|          Brazil|              Male|    1|\n",
      "|        Accountant I|  Czech Republic|              Male|    2|\n",
      "+--------------------+----------------+------------------+-----+\n",
      "only showing top 20 rows\n",
      "\n"
     ]
    },
    {
     "name": "stderr",
     "output_type": "stream",
     "text": [
      "\r",
      "                                                                                \r"
     ]
    }
   ],
   "source": [
    "DF1.printSchema()\n",
    "win=Window.partitionBy(\"title_clnd\").orderBy(\"country\")\n",
    "\n",
    "DF1.withColumn(\"ID\",row_number().over(win)).show()\n",
    "DF1.withColumn(\"Rank_ID\",rank().over(win)).show()\n",
    "DF1.withColumn(\"percent_Rank\",percent_rank().over(win)).show()\n",
    "DF1.withColumn(\"ntile\",ntile(3).over(win)).show()"
   ]
  },
  {
   "cell_type": "code",
   "execution_count": 45,
   "id": "5039e591",
   "metadata": {},
   "outputs": [
    {
     "name": "stdout",
     "output_type": "stream",
     "text": [
      "root\n",
      " |-- title_clnd: string (nullable = true)\n",
      " |-- country: string (nullable = true)\n",
      " |-- Gender_Orientation: string (nullable = true)\n",
      "\n",
      "+--------------------+-------------+------------------+-----+\n",
      "|          title_clnd|      country|Gender_Orientation|count|\n",
      "+--------------------+-------------+------------------+-----+\n",
      "|            61871.37|     \"Bonaire|              Male|    1|\n",
      "|                 TBD|  Afghanistan|              Male|    1|\n",
      "|                 TBD|  Afghanistan|            Female|    1|\n",
      "|   Account Executive|Aland Islands|              Male|    1|\n",
      "|                 TBD|      Albania|            Female|    1|\n",
      "|           Professor|      Albania|            Female|    1|\n",
      "|  Research Associate|      Albania|            Female|    1|\n",
      "|                 TBD|       Angola|            Female|    1|\n",
      "|                 TBD|    Argentina|              Male|    1|\n",
      "|   Marketing Manager|    Argentina|              Male|    1|\n",
      "|   Chemical Engineer|    Argentina|            Female|    1|\n",
      "|    Graphic Designer|    Argentina|            Female|    1|\n",
      "|Compensation Analyst|    Argentina|            Female|    1|\n",
      "|   Financial Advisor|    Argentina|              Male|    1|\n",
      "|Budget/Accounting...|    Argentina|            Female|    1|\n",
      "|       Social Worker|    Argentina|              Male|    1|\n",
      "|    Product Engineer|    Argentina|            Female|    1|\n",
      "|                 TBD|    Argentina|            Female|    2|\n",
      "|     Cost Accountant|    Argentina|            Female|    1|\n",
      "|            Operator|    Argentina|            Female|    1|\n",
      "+--------------------+-------------+------------------+-----+\n",
      "only showing top 20 rows\n",
      "\n"
     ]
    }
   ],
   "source": [
    "DF1=(parq_DF.withColumn(\"title_clnd\", when(trim(col(\"title\")) == '','TBD')\n",
    "       .otherwise(parq_DF.title))\n",
    "       .withColumnRenamed(\"gender\",\"Gender_Orientation\")\n",
    "       .filter((col(\"Gender_Orientation\") == 'Male') | (col(\"Gender_Orientation\") == 'Female'))\n",
    "       .drop(\"title\")\n",
    "       .select(\"title_clnd\",\"country\",\"Gender_Orientation\")\n",
    ")\n",
    "DF1.printSchema()\n",
    "DF2=(DF1.groupBy(\"title_clnd\",\"country\",\"Gender_Orientation\").count()\n",
    " .orderBy(\"country\",asc=\"true\")   \n",
    ")\n",
    "DF2.show()"
   ]
  },
  {
   "cell_type": "code",
   "execution_count": null,
   "id": "eb1a0012",
   "metadata": {},
   "outputs": [],
   "source": []
  }
 ],
 "metadata": {
  "kernelspec": {
   "display_name": "Python 3 (ipykernel)",
   "language": "python",
   "name": "python3"
  },
  "language_info": {
   "codemirror_mode": {
    "name": "ipython",
    "version": 3
   },
   "file_extension": ".py",
   "mimetype": "text/x-python",
   "name": "python",
   "nbconvert_exporter": "python",
   "pygments_lexer": "ipython3",
   "version": "3.10.6"
  }
 },
 "nbformat": 4,
 "nbformat_minor": 5
}
