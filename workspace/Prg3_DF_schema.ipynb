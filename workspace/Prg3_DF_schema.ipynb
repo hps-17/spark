{
 "cells": [
  {
   "cell_type": "code",
   "execution_count": 3,
   "id": "31c35da3",
   "metadata": {},
   "outputs": [],
   "source": [
    "import sys\n",
    "from pyspark.sql.functions import *\n",
    "from pyspark.sql import SparkSession"
   ]
  },
  {
   "cell_type": "code",
   "execution_count": 6,
   "id": "8aced593",
   "metadata": {},
   "outputs": [],
   "source": [
    "parquet_dataset=\"/home/hari/Downloads/LearningSparkV2-master/parquet_files/userdata1.parquet\""
   ]
  },
  {
   "cell_type": "code",
   "execution_count": null,
   "id": "0bd4350f",
   "metadata": {},
   "outputs": [],
   "source": [
    "if __name"
   ]
  }
 ],
 "metadata": {
  "kernelspec": {
   "display_name": "Python 3 (ipykernel)",
   "language": "python",
   "name": "python3"
  },
  "language_info": {
   "codemirror_mode": {
    "name": "ipython",
    "version": 3
   },
   "file_extension": ".py",
   "mimetype": "text/x-python",
   "name": "python",
   "nbconvert_exporter": "python",
   "pygments_lexer": "ipython3",
   "version": "3.10.6"
  }
 },
 "nbformat": 4,
 "nbformat_minor": 5
}
