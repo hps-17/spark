{
 "cells": [
  {
   "cell_type": "markdown",
   "id": "8920cec4",
   "metadata": {},
   "source": [
    "Schema definition\n",
    "Schema DDL string\n"
   ]
  },
  {
   "cell_type": "code",
   "execution_count": 5,
   "id": "17ac97a3",
   "metadata": {},
   "outputs": [],
   "source": [
    "import sys\n",
    "from pyspark.sql.functions import *\n",
    "from pyspark.sql import SparkSession\n",
    "from pyspark.sql.types import *\n",
    "from pyspark.sql.types import StructField "
   ]
  },
  {
   "cell_type": "code",
   "execution_count": 2,
   "id": "da86c6b6",
   "metadata": {},
   "outputs": [],
   "source": [
    "parquet_dataset=\"/home/hari/Downloads/LearningSparkV2-master/parquet_files/userdata1.parquet\""
   ]
  },
  {
   "cell_type": "code",
   "execution_count": 3,
   "id": "de5a36c2",
   "metadata": {},
   "outputs": [
    {
     "name": "stderr",
     "output_type": "stream",
     "text": [
      "23/05/06 15:11:21 WARN Utils: Your hostname, hps17 resolves to a loopback address: 127.0.1.1; using 192.168.236.132 instead (on interface ens33)\n",
      "23/05/06 15:11:21 WARN Utils: Set SPARK_LOCAL_IP if you need to bind to another address\n",
      "Using Spark's default log4j profile: org/apache/spark/log4j-defaults.properties\n",
      "Setting default log level to \"WARN\".\n",
      "To adjust logging level use sc.setLogLevel(newLevel). For SparkR, use setLogLevel(newLevel).\n",
      "23/05/06 15:11:22 WARN NativeCodeLoader: Unable to load native-hadoop library for your platform... using builtin-java classes where applicable\n"
     ]
    }
   ],
   "source": [
    "if __name__ == \"__main__\" :\n",
    "    spark=(SparkSession.builder\n",
    "          .appName(\"Prg3_DF_schema\")\n",
    "          .getOrCreate())"
   ]
  },
  {
   "cell_type": "code",
   "execution_count": 4,
   "id": "1acf945a",
   "metadata": {},
   "outputs": [
    {
     "name": "stderr",
     "output_type": "stream",
     "text": [
      "                                                                                \r"
     ]
    },
    {
     "name": "stdout",
     "output_type": "stream",
     "text": [
      "root\n",
      " |-- registration_dttm: timestamp (nullable = true)\n",
      " |-- id: integer (nullable = true)\n",
      " |-- first_name: string (nullable = true)\n",
      " |-- last_name: string (nullable = true)\n",
      " |-- email: string (nullable = true)\n",
      " |-- gender: string (nullable = true)\n",
      " |-- ip_address: string (nullable = true)\n",
      " |-- cc: string (nullable = true)\n",
      " |-- country: string (nullable = true)\n",
      " |-- birthdate: string (nullable = true)\n",
      " |-- salary: double (nullable = true)\n",
      " |-- title: string (nullable = true)\n",
      " |-- comments: string (nullable = true)\n",
      "\n"
     ]
    },
    {
     "ename": "TypeError",
     "evalue": "'StructType' object is not callable",
     "output_type": "error",
     "traceback": [
      "\u001b[0;31m---------------------------------------------------------------------------\u001b[0m",
      "\u001b[0;31mTypeError\u001b[0m                                 Traceback (most recent call last)",
      "Cell \u001b[0;32mIn[4], line 3\u001b[0m\n\u001b[1;32m      1\u001b[0m df\u001b[38;5;241m=\u001b[39mspark\u001b[38;5;241m.\u001b[39mread\u001b[38;5;241m.\u001b[39mparquet(parquet_dataset)\n\u001b[1;32m      2\u001b[0m df\u001b[38;5;241m.\u001b[39mprintSchema()\n\u001b[0;32m----> 3\u001b[0m \u001b[43mdf\u001b[49m\u001b[38;5;241;43m.\u001b[39;49m\u001b[43mschema\u001b[49m\u001b[43m(\u001b[49m\u001b[43m)\u001b[49m\n",
      "\u001b[0;31mTypeError\u001b[0m: 'StructType' object is not callable"
     ]
    }
   ],
   "source": [
    "df=spark.read.parquet(parquet_dataset)\n",
    "df.printSchema()\n",
    "df.schema()"
   ]
  },
  {
   "cell_type": "markdown",
   "id": "9d46bc31",
   "metadata": {},
   "source": [
    "# Schema definition DDL string"
   ]
  },
  {
   "cell_type": "code",
   "execution_count": 22,
   "id": "df0dab1e",
   "metadata": {},
   "outputs": [
    {
     "name": "stdout",
     "output_type": "stream",
     "text": [
      "+-------------------+---+----------+---------+--------------------+------+---------------+-------------------+--------------------+----------+---------+--------------------+--------------------+\n",
      "|  registration_dttm| id|first_name|last_name|               email|gender|     ip_address|                 cc|             country| birthdate|   salary|               title|            comments|\n",
      "+-------------------+---+----------+---------+--------------------+------+---------------+-------------------+--------------------+----------+---------+--------------------+--------------------+\n",
      "|2016-02-03 13:25:29|  1|    Amanda|   Jordan|    ajordan0@com.com|Female|    1.197.201.2|   6759521864920116|           Indonesia|  3/8/1971| 49756.53|    Internal Auditor|               1E+02|\n",
      "|2016-02-03 22:34:03|  2|    Albert|  Freeman|     afreeman1@is.gd|  Male| 218.111.175.34|                   |              Canada| 1/16/1968|150280.17|       Accountant IV|                    |\n",
      "|2016-02-03 06:39:31|  3|    Evelyn|   Morgan|emorgan2@altervis...|Female|   7.161.136.94|   6767119071901597|              Russia|  2/1/1960|144972.51| Structural Engineer|                    |\n",
      "|2016-02-03 06:06:21|  4|    Denise|    Riley|    driley3@gmpg.org|Female|  140.35.109.83|   3576031598965625|               China|  4/8/1997| 90263.05|Senior Cost Accou...|                    |\n",
      "|2016-02-03 10:35:31|  5|    Carlos|    Burns|cburns4@miitbeian...|      | 169.113.235.40|   5602256255204850|        South Africa|          |     null|                    |                    |\n",
      "|2016-02-03 12:52:34|  6|   Kathryn|    White|  kwhite5@google.com|Female| 195.131.81.179|   3583136326049310|           Indonesia| 2/25/1983| 69227.11|   Account Executive|                    |\n",
      "|2016-02-03 14:03:08|  7|    Samuel|   Holmes|sholmes6@foxnews.com|  Male| 232.234.81.197|   3582641366974690|            Portugal|12/18/1987| 14247.62|Senior Financial ...|                    |\n",
      "|2016-02-03 12:17:06|  8|     Harry|   Howell| hhowell7@eepurl.com|  Male|   91.235.51.73|                   |Bosnia and Herzeg...|  3/1/1962|186469.43|    Web Developer IV|                    |\n",
      "|2016-02-03 09:22:53|  9|      Jose|   Foster|   jfoster8@yelp.com|  Male|   132.31.53.61|                   |         South Korea| 3/27/1992|231067.84|Software Test Eng...|               1E+02|\n",
      "|2016-02-03 23:59:47| 10|     Emily|  Stewart|estewart9@opensou...|Female| 143.28.251.245|   3574254110301671|             Nigeria| 1/28/1997| 27234.28|     Health Coach IV|                    |\n",
      "|2016-02-03 05:40:42| 11|     Susan|  Perkins| sperkinsa@patch.com|Female|    180.85.0.62|   3573823609854134|              Russia|          |210001.95|                    |                    |\n",
      "|2016-02-03 23:34:34| 12|     Alice|    Berry|aberryb@wikipedia...|Female| 246.225.12.189|   4917830851454417|               China| 8/12/1968| 22944.53|    Quality Engineer|                    |\n",
      "|2016-02-04 00:18:17| 13|    Justin|    Berry|jberryc@usatoday.com|  Male|   157.7.146.43|6331109912871813274|              Zambia| 8/15/1975| 44165.46|Structural Analys...|                    |\n",
      "|2016-02-04 03:16:52| 14|     Kathy| Reynolds|kreynoldsd@redcro...|Female|  81.254.172.13|   5537178462965976|Bosnia and Herzeg...| 6/27/1970|286592.99|           Librarian|                    |\n",
      "|2016-02-03 14:23:23| 15|   Dorothy|   Hudson|dhudsone@blogger.com|Female|       8.59.7.0|   3542586858224170|               Japan|12/20/1989|157099.71|  Nurse Practicioner|<script>alert('hi...|\n",
      "|2016-02-03 06:14:01| 16|     Bruce|   Willis|bwillisf@bluehost...|  Male|239.182.219.189|   3573030625927601|              Brazil|          |239100.65|                    |                    |\n",
      "|2016-02-03 06:27:45| 17|     Emily|  Andrews|eandrewsg@cornell...|Female| 29.231.180.172|     30271790537626|              Russia| 4/13/1990|116800.65|        Food Chemist|                    |\n",
      "|2016-02-03 22:14:24| 18|   Stephen|  Wallace|swallaceh@netvibe...|  Male|  152.49.213.62|   5433943468526428|             Ukraine| 1/15/1978|248877.99|Account Represent...|                    |\n",
      "|2016-02-03 17:15:54| 19|  Clarence|   Lawson|clawsoni@vkontakt...|  Male| 107.175.15.152|   3544052814080964|              Russia|          |177122.99|                    |                    |\n",
      "|2016-02-03 16:00:36| 20|   Rebecca|     Bell| rbellj@bandcamp.com|Female|172.215.104.127|                   |               China|          |137251.19|                    |                    |\n",
      "+-------------------+---+----------+---------+--------------------+------+---------------+-------------------+--------------------+----------+---------+--------------------+--------------------+\n",
      "only showing top 20 rows\n",
      "\n"
     ]
    }
   ],
   "source": [
    "###Schema DDL string\n",
    "\n",
    "schema_ddl=\"`registration_dttm` timestamp, `id` integer, `first_name` string, `last_name` string, `email` string, `gender` string, `ip_address` string, `cc` string, `country` string, `birthdate` string, `salary` double, `title` string, `comments` string\"\n",
    "df1=(spark.read.format(\"parquet\").schema(schema_ddl).load(parquet_dataset))\n",
    "\n",
    "df1.show()\n"
   ]
  },
  {
   "cell_type": "markdown",
   "id": "06d26c7f",
   "metadata": {},
   "source": [
    "# Schema definition using Struct type \n",
    "syntax:\n",
    "\n",
    "StructType([StructField(\"col_nm\", dataype , T/F),StructField(\"col_nm\",datatype, T/F)])"
   ]
  },
  {
   "cell_type": "code",
   "execution_count": 11,
   "id": "293706f3",
   "metadata": {},
   "outputs": [
    {
     "name": "stdout",
     "output_type": "stream",
     "text": [
      "+---+---------+-----------+-----------+-----------------+\n",
      "| id|     Name|Father Name|        DOB|            Marks|\n",
      "+---+---------+-----------+-----------+-----------------+\n",
      "|  1|   Aadhav|     Ritesh| 07/04/2021| [90, 91, 92, 99]|\n",
      "|  2|Avvantika|Hariprasath| 11/02/2023|[100, 91, 92, 90]|\n",
      "|  3|     Bala|     Prasad|11/11/20221| [89, 80, 88, 90]|\n",
      "|  4|     Biju|     Prasad|08/11/20221| [80, 80, 80, 90]|\n",
      "+---+---------+-----------+-----------+-----------------+\n",
      "\n",
      "root\n",
      " |-- id: integer (nullable = true)\n",
      " |-- Name: string (nullable = true)\n",
      " |-- Father Name: string (nullable = true)\n",
      " |-- DOB: string (nullable = true)\n",
      " |-- Marks: array (nullable = true)\n",
      " |    |-- element: string (containsNull = true)\n",
      "\n"
     ]
    }
   ],
   "source": [
    "# array list\n",
    "data=[[1,\"Aadhav\",\"Ritesh\",'07/04/2021',[90,91,92,99]],\n",
    "      [2,\"Avvantika\",\"Hariprasath\",'11/02/2023',[100,91,92,90]],\n",
    "      [3,\"Bala\",\"Prasad\",'11/11/20221',[89,80,88,90]],\n",
    "      [4,\"Biju\",\"Prasad\",'08/11/20221',[80,80,80,90]]]\n",
    "\n",
    "#schema\n",
    "sch_ddl=\"`id` int,`Name` string, `Father Name` string,`DOB` string, `Marks` Array<STRING>\"\n",
    "\n",
    "\n",
    "            \n",
    "#Data Frame creation from list\n",
    "stud_df=spark.createDataFrame(data,sch_ddl)\n",
    "\n",
    "stud_df.show()\n",
    "stud_df.printSchema()\n"
   ]
  },
  {
   "cell_type": "code",
   "execution_count": null,
   "id": "f4e713d2",
   "metadata": {},
   "outputs": [],
   "source": [
    "sch_struct=StructType(\n",
    "    StructField(\"id\", IntegerType(), False),\n",
    "    StructField(\"Name\", StringType(), False),\n",
    "    StructField(\"Father Name\", StringType(), False),\n",
    "    StructField(\"DOB\", StringType(), False),\n",
    "    StructField(\"Marks\", \n",
    "                StructType([StructField(\"Lang1\", IntegerType(), False),\n",
    "                            StructField(\"Lang2\", IntegerType(), False),\n",
    "                            StructField(\"Lang3\", IntegerType(), False),\n",
    "                            StructField(\"Lang4\", IntegerType(), False)\n",
    "                           ])\n",
    "                   ))"
   ]
  }
 ],
 "metadata": {
  "kernelspec": {
   "display_name": "Python 3 (ipykernel)",
   "language": "python",
   "name": "python3"
  },
  "language_info": {
   "codemirror_mode": {
    "name": "ipython",
    "version": 3
   },
   "file_extension": ".py",
   "mimetype": "text/x-python",
   "name": "python",
   "nbconvert_exporter": "python",
   "pygments_lexer": "ipython3",
   "version": "3.10.6"
  }
 },
 "nbformat": 4,
 "nbformat_minor": 5
}
