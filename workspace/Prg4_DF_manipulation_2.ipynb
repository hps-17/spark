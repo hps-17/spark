{
 "cells": [
  {
   "cell_type": "markdown",
   "id": "7b8c32c4",
   "metadata": {},
   "source": [
    " Scenarios:\n",
    " \n",
    "1. Find the distinct job titles in the dataset.\n",
    "2. Find the below for each of the job titles\n",
    "\t2.1 Avg salary\n",
    "\t2.2 Max salary\n",
    "\t2.3 Min salary\n",
    "3. Country wise titles and avg and max salary.\n",
    "4. Gender diversity country wise\n",
    "5. country wise - age group of working population.\n",
    "\n",
    "Usage:\n",
    "1. Aggreate functions \n",
    "    1.1 avg\n",
    "    1.2 min\n",
    "    1.3 max\n",
    "2. Window functions\n",
    "    2.1 group by\n",
    "    2.2 order by\n",
    "3. filter() or where()\n",
    "4. Addition of column using withColumn() function"
   ]
  },
  {
   "cell_type": "code",
   "execution_count": 2,
   "id": "aeb50bd5",
   "metadata": {},
   "outputs": [],
   "source": [
    "from pyspark.sql.types import *\n",
    "from pyspark.sql import SparkSession\n",
    "from pyspark.sql import functions\n",
    "import pyspark.sql.functions as F\n",
    "from pyspark.sql.window import Window\n",
    "import sys"
   ]
  },
  {
   "cell_type": "code",
   "execution_count": 3,
   "id": "3d55a624",
   "metadata": {},
   "outputs": [
    {
     "name": "stderr",
     "output_type": "stream",
     "text": [
      "23/05/07 15:51:45 WARN Utils: Your hostname, hps17 resolves to a loopback address: 127.0.1.1; using 192.168.236.132 instead (on interface ens33)\n",
      "23/05/07 15:51:45 WARN Utils: Set SPARK_LOCAL_IP if you need to bind to another address\n",
      "Using Spark's default log4j profile: org/apache/spark/log4j-defaults.properties\n",
      "Setting default log level to \"WARN\".\n",
      "To adjust logging level use sc.setLogLevel(newLevel). For SparkR, use setLogLevel(newLevel).\n",
      "23/05/07 15:51:46 WARN NativeCodeLoader: Unable to load native-hadoop library for your platform... using builtin-java classes where applicable\n"
     ]
    }
   ],
   "source": [
    "if __name__ == \"__main__\" :\n",
    "    spark=(SparkSession.builder\n",
    "                      .appName(\"Prg4_DF_manipulation_2\")\n",
    "                      .getOrCreate())"
   ]
  },
  {
   "cell_type": "code",
   "execution_count": 4,
   "id": "f46677e4",
   "metadata": {},
   "outputs": [],
   "source": [
    "parquet_dataset=\"/home/hari/Downloads/LearningSparkV2-master/parquet_files/userdata1.parquet\""
   ]
  },
  {
   "cell_type": "code",
   "execution_count": 5,
   "id": "226c46ec",
   "metadata": {},
   "outputs": [
    {
     "name": "stderr",
     "output_type": "stream",
     "text": [
      "                                                                                \r"
     ]
    }
   ],
   "source": [
    "df=spark.read.format(\"parquet\").load(parquet_dataset)"
   ]
  },
  {
   "cell_type": "markdown",
   "id": "8d841fdf",
   "metadata": {},
   "source": [
    "# Sc 1: Find the distinct job titles in the dataset."
   ]
  },
  {
   "cell_type": "code",
   "execution_count": 6,
   "id": "04b21fcb",
   "metadata": {},
   "outputs": [
    {
     "name": "stdout",
     "output_type": "stream",
     "text": [
      "+-------------------------+\n",
      "|title                    |\n",
      "+-------------------------+\n",
      "|61871.37                 |\n",
      "|Account Coordinator      |\n",
      "|Account Coordinator      |\n",
      "|Account Coordinator      |\n",
      "|Account Coordinator      |\n",
      "|Account Executive        |\n",
      "|Account Executive        |\n",
      "|Account Executive        |\n",
      "|Account Executive        |\n",
      "|Account Executive        |\n",
      "|Account Executive        |\n",
      "|Account Executive        |\n",
      "|Account Executive        |\n",
      "|Account Executive        |\n",
      "|Account Representative I |\n",
      "|Account Representative I |\n",
      "|Account Representative II|\n",
      "|Account Representative II|\n",
      "|Accountant I             |\n",
      "|Accountant I             |\n",
      "+-------------------------+\n",
      "only showing top 20 rows\n",
      "\n",
      "Count of distinct titles 182\n"
     ]
    }
   ],
   "source": [
    "df.select(\"title\").where((F.trim(\"title\")!='')).orderBy(\"title\",ascending=True).show(truncate=False)\n",
    "print('Count of distinct titles',df.select(\"title\").distinct().count())"
   ]
  },
  {
   "cell_type": "markdown",
   "id": "91ac7592",
   "metadata": {},
   "source": [
    "# Find the below for each of the job titles - country wise\n",
    "\t2.1 Avg salary\n",
    "\t2.2 Max salary\n",
    "\t2.3 Min salary\n",
    "    2.4 Use of aliass function\n",
    "    2.5 Trim function to cleanse\n",
    "    2.6 agg() for multiple aggregate function use\n",
    "    2.7 SEQUENCE ID and RANK based on avg salary using withColumn fn (rank and row_number)\n",
    "    "
   ]
  },
  {
   "cell_type": "markdown",
   "id": "16204a09",
   "metadata": {},
   "source": [
    "Notes:\n",
    "We need to use agg() when we want to use multiple aggreate function\n",
    "like,\n",
    "       .agg(F.max(\"salary\"),F.min(\"salary\"),F.avg(\"salary\"))"
   ]
  },
  {
   "cell_type": "code",
   "execution_count": 7,
   "id": "dc0b9327",
   "metadata": {},
   "outputs": [
    {
     "name": "stdout",
     "output_type": "stream",
     "text": [
      "+-----------+-----------+------------------+\n",
      "|max(salary)|min(salary)|       avg(salary)|\n",
      "+-----------+-----------+------------------+\n",
      "|  286592.99|   12380.49|149005.35665236053|\n",
      "+-----------+-----------+------------------+\n",
      "\n"
     ]
    },
    {
     "name": "stderr",
     "output_type": "stream",
     "text": [
      "23/05/07 15:52:24 WARN WindowExec: No Partition Defined for Window operation! Moving all data to a single partition, this can cause serious performance degradation.\n",
      "23/05/07 15:52:24 WARN WindowExec: No Partition Defined for Window operation! Moving all data to a single partition, this can cause serious performance degradation.\n",
      "23/05/07 15:52:24 WARN WindowExec: No Partition Defined for Window operation! Moving all data to a single partition, this can cause serious performance degradation.\n",
      "23/05/07 15:52:24 WARN WindowExec: No Partition Defined for Window operation! Moving all data to a single partition, this can cause serious performance degradation.\n"
     ]
    },
    {
     "name": "stdout",
     "output_type": "stream",
     "text": [
      "+--------------------+----------------+----------+----------+-----------------+----+------+\n",
      "|               title|         country|Max_Salary|Min_Salary|       Avg_Salary|rank|Seq_nm|\n",
      "+--------------------+----------------+----------+----------+-----------------+----+------+\n",
      "|            61871.37|        \"Bonaire|      null|      null|             null|   1|     1|\n",
      "| Account Coordinator|         Nigeria| 193301.99| 193301.99|        193301.99|   1|     2|\n",
      "| Account Coordinator|           Japan|  83759.68|  83759.68|         83759.68|   2|     3|\n",
      "| Account Coordinator|     Philippines|  44739.92|  44739.92|         44739.92|   3|     4|\n",
      "| Account Coordinator|         Finland|  16468.24|  16468.24|         16468.24|   4|     5|\n",
      "|   Account Executive|   Aland Islands| 259912.24| 259912.24|        259912.24|   1|     6|\n",
      "|   Account Executive|           China| 175184.97|  149849.0|       162516.985|   2|     7|\n",
      "|   Account Executive|          Canada| 100606.14| 100606.14|        100606.14|   3|     8|\n",
      "|   Account Executive|Papua New Guinea|   96341.0|   96341.0|          96341.0|   4|     9|\n",
      "|   Account Executive|       Indonesia|  95632.87|  69227.11|82429.98999999999|   5|    10|\n",
      "|   Account Executive|          Russia|  28387.23|  28387.23|         28387.23|   6|    11|\n",
      "|   Account Executive|          Guinea|  23311.89|  23311.89|         23311.89|   7|    12|\n",
      "|Account Represent...|         Ukraine| 248877.99| 248877.99|        248877.99|   1|    13|\n",
      "|Account Represent...|       Venezuela|  99164.83|  99164.83|         99164.83|   2|    14|\n",
      "|Account Represent...|         Croatia|  265985.0|  265985.0|         265985.0|   1|    15|\n",
      "|Account Represent...|          Canada| 101833.88| 101833.88|        101833.88|   2|    16|\n",
      "|        Accountant I|         Estonia|  231721.8|  231721.8|         231721.8|   1|    17|\n",
      "|        Accountant I|          Brazil|  56293.41|  56293.41|         56293.41|   2|    18|\n",
      "|        Accountant I|  Czech Republic|  29798.15|  29798.15|         29798.15|   3|    19|\n",
      "|       Accountant II|           China|  73004.37|  73004.37|         73004.37|   1|    20|\n",
      "+--------------------+----------------+----------+----------+-----------------+----+------+\n",
      "only showing top 20 rows\n",
      "\n"
     ]
    }
   ],
   "source": [
    "df.select(F.max(\"salary\"),F.min(\"salary\"),F.avg(\"salary\")).show()\n",
    "win=(Window.partitionBy(\"title\").orderBy(F.col(\"Avg_Salary\").desc()))\n",
    "seq=(Window.orderBy(\"title\",\"rank\"))\n",
    "df_stat_1=(df.where(F.trim(\"title\")!='')\n",
    "     .orderBy(\"title\")\n",
    "     .groupBy(\"title\",\"country\")\n",
    "     .agg(F.max(\"salary\").alias(\"Max_Salary\"),F.min(\"salary\").alias(\"Min_Salary\"),F.avg(\"salary\").alias(\"Avg_Salary\"))\n",
    "     #.row_number().over(win)\n",
    "     #.show(truncate=False)\n",
    ")\n",
    "\n",
    "(df_stat_1.withColumn(\"rank\",F.rank().over(win))\n",
    " .withColumn(\"Seq_nm\",F.row_number().over(seq))\n",
    " .show()\n",
    ")"
   ]
  },
  {
   "cell_type": "markdown",
   "id": "1abbbc6e",
   "metadata": {},
   "source": [
    "# Sc 3: Age group calculation\n",
    "\n",
    "3.1 Use current_timestamp to fetch current date\n",
    "3.2 to_date to convert string into date of specify format\n",
    "3.3 datediff - get date difference 2 dates\n",
    "3.4 months_between - get month between two dates\n",
    "3.5 round () function usage\n",
    "3.6 current_time() function\n",
    "3.7 current_timestamp function\n",
    "3.8 extract day, month and year\n",
    "3.9 max and min of date"
   ]
  },
  {
   "cell_type": "code",
   "execution_count": 50,
   "id": "36edc9e5",
   "metadata": {},
   "outputs": [
    {
     "name": "stdout",
     "output_type": "stream",
     "text": [
      "+-----------+-----------+\n",
      "|max(dob_dt)|min(dob_dt)|\n",
      "+-----------+-----------+\n",
      "| 2001-01-10| 1955-01-19|\n",
      "+-----------+-----------+\n",
      "\n"
     ]
    }
   ],
   "source": [
    "df.select(\"birthdate\").distinct()\n",
    "((df.select(F.year(F.to_date((\"birthdate\"),format=\"MM/d/yyyy\")))).filter(F.trim(\"birthdate\")!='').distinct())\n",
    "\n",
    "df_dt=((df.select((F.to_date((\"birthdate\"),format=\"MM/d/yyyy\")).alias(\"dob_dt\"))).filter(F.trim(\"birthdate\")!='').distinct())\n",
    "\n",
    "df_dt.select(F.max(\"dob_dt\"),F.min(\"dob_dt\")).show()"
   ]
  },
  {
   "cell_type": "code",
   "execution_count": 31,
   "id": "8093445b",
   "metadata": {},
   "outputs": [
    {
     "name": "stdout",
     "output_type": "stream",
     "text": [
      "+---+----------+------+----------+-----+--------+\n",
      "| id| birthdate|gender|       dob|  age|dob_year|\n",
      "+---+----------+------+----------+-----+--------+\n",
      "|  1|  3/8/1971|Female|1971-03-08| 52.2|    1971|\n",
      "|  2| 1/16/1968|  Male|1968-01-16|55.34|    1968|\n",
      "|  3|  2/1/1960|Female|1960-02-01| 63.3|    1960|\n",
      "|  4|  4/8/1997|Female|1997-04-08| 26.1|    1997|\n",
      "|  6| 2/25/1983|Female|1983-02-25|40.22|    1983|\n",
      "|  7|12/18/1987|  Male|1987-12-18|35.41|    1987|\n",
      "|  8|  3/1/1962|  Male|1962-03-01|61.22|    1962|\n",
      "|  9| 3/27/1992|  Male|1992-03-27|31.13|    1992|\n",
      "| 10| 1/28/1997|Female|1997-01-28|26.29|    1997|\n",
      "| 12| 8/12/1968|Female|1968-08-12|54.77|    1968|\n",
      "| 13| 8/15/1975|  Male|1975-08-15|47.76|    1975|\n",
      "| 14| 6/27/1970|Female|1970-06-27| 52.9|    1970|\n",
      "| 15|12/20/1989|Female|1989-12-20| 33.4|    1989|\n",
      "| 17| 4/13/1990|Female|1990-04-13|33.09|    1990|\n",
      "| 18| 1/15/1978|  Male|1978-01-15|45.34|    1978|\n",
      "| 21|  6/5/1985|Female|1985-06-05|37.95|    1985|\n",
      "| 23| 1/23/1971|  Male|1971-01-23|52.32|    1971|\n",
      "| 24|  6/5/1964|Female|1964-06-05|58.96|    1964|\n",
      "| 26|12/10/1979|  Male|1979-12-10|43.44|    1979|\n",
      "| 27| 9/22/1995|  Male|1995-09-22|27.64|    1995|\n",
      "+---+----------+------+----------+-----+--------+\n",
      "only showing top 20 rows\n",
      "\n",
      "+-------------------+---+----------+---------+--------------------+------+---------------+-------------------+--------------------+----------+---------+--------------------+--------------------+----------+\n",
      "|  registration_dttm| id|first_name|last_name|               email|gender|     ip_address|                 cc|             country| birthdate|   salary|               title|            comments|      date|\n",
      "+-------------------+---+----------+---------+--------------------+------+---------------+-------------------+--------------------+----------+---------+--------------------+--------------------+----------+\n",
      "|2016-02-03 13:25:29|  1|    Amanda|   Jordan|    ajordan0@com.com|Female|    1.197.201.2|   6759521864920116|           Indonesia|  3/8/1971| 49756.53|    Internal Auditor|               1E+02|2023-05-07|\n",
      "|2016-02-03 22:34:03|  2|    Albert|  Freeman|     afreeman1@is.gd|  Male| 218.111.175.34|                   |              Canada| 1/16/1968|150280.17|       Accountant IV|                    |2023-05-07|\n",
      "|2016-02-03 06:39:31|  3|    Evelyn|   Morgan|emorgan2@altervis...|Female|   7.161.136.94|   6767119071901597|              Russia|  2/1/1960|144972.51| Structural Engineer|                    |2023-05-07|\n",
      "|2016-02-03 06:06:21|  4|    Denise|    Riley|    driley3@gmpg.org|Female|  140.35.109.83|   3576031598965625|               China|  4/8/1997| 90263.05|Senior Cost Accou...|                    |2023-05-07|\n",
      "|2016-02-03 10:35:31|  5|    Carlos|    Burns|cburns4@miitbeian...|      | 169.113.235.40|   5602256255204850|        South Africa|          |     null|                    |                    |2023-05-07|\n",
      "|2016-02-03 12:52:34|  6|   Kathryn|    White|  kwhite5@google.com|Female| 195.131.81.179|   3583136326049310|           Indonesia| 2/25/1983| 69227.11|   Account Executive|                    |2023-05-07|\n",
      "|2016-02-03 14:03:08|  7|    Samuel|   Holmes|sholmes6@foxnews.com|  Male| 232.234.81.197|   3582641366974690|            Portugal|12/18/1987| 14247.62|Senior Financial ...|                    |2023-05-07|\n",
      "|2016-02-03 12:17:06|  8|     Harry|   Howell| hhowell7@eepurl.com|  Male|   91.235.51.73|                   |Bosnia and Herzeg...|  3/1/1962|186469.43|    Web Developer IV|                    |2023-05-07|\n",
      "|2016-02-03 09:22:53|  9|      Jose|   Foster|   jfoster8@yelp.com|  Male|   132.31.53.61|                   |         South Korea| 3/27/1992|231067.84|Software Test Eng...|               1E+02|2023-05-07|\n",
      "|2016-02-03 23:59:47| 10|     Emily|  Stewart|estewart9@opensou...|Female| 143.28.251.245|   3574254110301671|             Nigeria| 1/28/1997| 27234.28|     Health Coach IV|                    |2023-05-07|\n",
      "|2016-02-03 05:40:42| 11|     Susan|  Perkins| sperkinsa@patch.com|Female|    180.85.0.62|   3573823609854134|              Russia|          |210001.95|                    |                    |2023-05-07|\n",
      "|2016-02-03 23:34:34| 12|     Alice|    Berry|aberryb@wikipedia...|Female| 246.225.12.189|   4917830851454417|               China| 8/12/1968| 22944.53|    Quality Engineer|                    |2023-05-07|\n",
      "|2016-02-04 00:18:17| 13|    Justin|    Berry|jberryc@usatoday.com|  Male|   157.7.146.43|6331109912871813274|              Zambia| 8/15/1975| 44165.46|Structural Analys...|                    |2023-05-07|\n",
      "|2016-02-04 03:16:52| 14|     Kathy| Reynolds|kreynoldsd@redcro...|Female|  81.254.172.13|   5537178462965976|Bosnia and Herzeg...| 6/27/1970|286592.99|           Librarian|                    |2023-05-07|\n",
      "|2016-02-03 14:23:23| 15|   Dorothy|   Hudson|dhudsone@blogger.com|Female|       8.59.7.0|   3542586858224170|               Japan|12/20/1989|157099.71|  Nurse Practicioner|<script>alert('hi...|2023-05-07|\n",
      "|2016-02-03 06:14:01| 16|     Bruce|   Willis|bwillisf@bluehost...|  Male|239.182.219.189|   3573030625927601|              Brazil|          |239100.65|                    |                    |2023-05-07|\n",
      "|2016-02-03 06:27:45| 17|     Emily|  Andrews|eandrewsg@cornell...|Female| 29.231.180.172|     30271790537626|              Russia| 4/13/1990|116800.65|        Food Chemist|                    |2023-05-07|\n",
      "|2016-02-03 22:14:24| 18|   Stephen|  Wallace|swallaceh@netvibe...|  Male|  152.49.213.62|   5433943468526428|             Ukraine| 1/15/1978|248877.99|Account Represent...|                    |2023-05-07|\n",
      "|2016-02-03 17:15:54| 19|  Clarence|   Lawson|clawsoni@vkontakt...|  Male| 107.175.15.152|   3544052814080964|              Russia|          |177122.99|                    |                    |2023-05-07|\n",
      "|2016-02-03 16:00:36| 20|   Rebecca|     Bell| rbellj@bandcamp.com|Female|172.215.104.127|                   |               China|          |137251.19|                    |                    |2023-05-07|\n",
      "+-------------------+---+----------+---------+--------------------+------+---------------+-------------------+--------------------+----------+---------+--------------------+--------------------+----------+\n",
      "only showing top 20 rows\n",
      "\n"
     ]
    }
   ],
   "source": [
    "spark.sql(\"set spark.sql.legacy.timeParserPolicy=LEGACY\")\n",
    "(df.select(\"id\",\"birthdate\",\"gender\")\n",
    " .filter(F.trim(\"birthdate\")!='')\n",
    " .withColumn(\"dob\",F.to_date(F.trim(\"birthdate\"),format=\"MM/d/yyyy\"))\n",
    " .withColumn(\"age\",F.round(((F.datediff(F.current_date(),\"dob\"))/F.lit(365)),2))\n",
    " .withColumn(\"dob_year\",F.year(\"dob\"))\n",
    " .show()\n",
    ")\n",
    "df.withColumn(\"date\",F.current_date()).show() #2023-05-07\n"
   ]
  },
  {
   "cell_type": "code",
   "execution_count": null,
   "id": "7c9149aa",
   "metadata": {},
   "outputs": [],
   "source": []
  }
 ],
 "metadata": {
  "kernelspec": {
   "display_name": "Python 3 (ipykernel)",
   "language": "python",
   "name": "python3"
  },
  "language_info": {
   "codemirror_mode": {
    "name": "ipython",
    "version": 3
   },
   "file_extension": ".py",
   "mimetype": "text/x-python",
   "name": "python",
   "nbconvert_exporter": "python",
   "pygments_lexer": "ipython3",
   "version": "3.10.6"
  }
 },
 "nbformat": 4,
 "nbformat_minor": 5
}
