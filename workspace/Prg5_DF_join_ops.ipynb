{
 "cells": [
  {
   "cell_type": "markdown",
   "id": "e68cf10d",
   "metadata": {},
   "source": [
    "# Scenario:\n",
    "    1. Split dataframe two 2 dataframe.\n",
    "    2. capture cust details in DF1\n",
    "    3. Capture title based stat in Df2\n",
    "    4. Join both dataframe"
   ]
  },
  {
   "cell_type": "code",
   "execution_count": 5,
   "id": "c409e395",
   "metadata": {},
   "outputs": [],
   "source": [
    "import sys\n",
    "from pyspark.sql import SparkSession\n",
    "from pyspark.sql.types import *\n",
    "import pyspark.sql.functions as F\n",
    "from pyspark.sql.window import Window"
   ]
  },
  {
   "cell_type": "code",
   "execution_count": 7,
   "id": "5abbca91",
   "metadata": {},
   "outputs": [],
   "source": [
    "if __name__ == \"__main__\" :\n",
    "    spark=(SparkSession\n",
    "           .builder\n",
    "           .appName(\"Prg5_DF_joins_ops\")\n",
    "           .getOrCreate()\n",
    "          )"
   ]
  },
  {
   "cell_type": "code",
   "execution_count": 8,
   "id": "e0084e51",
   "metadata": {},
   "outputs": [],
   "source": [
    "parquet_dataset=\"/home/hari/Downloads/LearningSparkV2-master/parquet_files/userdata1.parquet\""
   ]
  },
  {
   "cell_type": "code",
   "execution_count": 13,
   "id": "e9dcdaca",
   "metadata": {},
   "outputs": [
    {
     "name": "stdout",
     "output_type": "stream",
     "text": [
      "+-------------------+---+----------+---------+--------------------+------+--------------+----------------+------------+---------+---------+--------------------+--------+\n",
      "|  registration_dttm| id|first_name|last_name|               email|gender|    ip_address|              cc|     country|birthdate|   salary|               title|comments|\n",
      "+-------------------+---+----------+---------+--------------------+------+--------------+----------------+------------+---------+---------+--------------------+--------+\n",
      "|2016-02-03 13:25:29|  1|    Amanda|   Jordan|    ajordan0@com.com|Female|   1.197.201.2|6759521864920116|   Indonesia| 3/8/1971| 49756.53|    Internal Auditor|   1E+02|\n",
      "|2016-02-03 22:34:03|  2|    Albert|  Freeman|     afreeman1@is.gd|  Male|218.111.175.34|                |      Canada|1/16/1968|150280.17|       Accountant IV|        |\n",
      "|2016-02-03 06:39:31|  3|    Evelyn|   Morgan|emorgan2@altervis...|Female|  7.161.136.94|6767119071901597|      Russia| 2/1/1960|144972.51| Structural Engineer|        |\n",
      "|2016-02-03 06:06:21|  4|    Denise|    Riley|    driley3@gmpg.org|Female| 140.35.109.83|3576031598965625|       China| 4/8/1997| 90263.05|Senior Cost Accou...|        |\n",
      "|2016-02-03 10:35:31|  5|    Carlos|    Burns|cburns4@miitbeian...|      |169.113.235.40|5602256255204850|South Africa|         |     null|                    |        |\n",
      "+-------------------+---+----------+---------+--------------------+------+--------------+----------------+------------+---------+---------+--------------------+--------+\n",
      "only showing top 5 rows\n",
      "\n",
      "root\n",
      " |-- registration_dttm: timestamp (nullable = true)\n",
      " |-- id: integer (nullable = true)\n",
      " |-- first_name: string (nullable = true)\n",
      " |-- last_name: string (nullable = true)\n",
      " |-- email: string (nullable = true)\n",
      " |-- gender: string (nullable = true)\n",
      " |-- ip_address: string (nullable = true)\n",
      " |-- cc: string (nullable = true)\n",
      " |-- country: string (nullable = true)\n",
      " |-- birthdate: string (nullable = true)\n",
      " |-- salary: double (nullable = true)\n",
      " |-- title: string (nullable = true)\n",
      " |-- comments: string (nullable = true)\n",
      "\n"
     ]
    }
   ],
   "source": [
    "df=spark.read.format(\"parquet\").load(parquet_dataset)\n",
    "df.show(5)\n",
    "df.printSchema()"
   ]
  },
  {
   "cell_type": "code",
   "execution_count": null,
   "id": "671abea3",
   "metadata": {},
   "outputs": [],
   "source": []
  },
  {
   "cell_type": "code",
   "execution_count": 67,
   "id": "fac997d0",
   "metadata": {},
   "outputs": [
    {
     "name": "stdout",
     "output_type": "stream",
     "text": [
      "+-------+----------------+----------+---------+---------+------+---------+-----+\n",
      "|cust_id|           title|first_name|last_name|   salary|gender|      dob|  age|\n",
      "+-------+----------------+----------+---------+---------+------+---------+-----+\n",
      "|      1|Internal Auditor|    Amanda|   Jordan| 49756.53|Female| 3/8/1971| 52.2|\n",
      "|      2|   Accountant IV|    Albert|  Freeman|150280.17|  Male|1/16/1968|55.34|\n",
      "+-------+----------------+----------+---------+---------+------+---------+-----+\n",
      "only showing top 2 rows\n",
      "\n"
     ]
    }
   ],
   "source": [
    "#DF - customer details\n",
    "\n",
    "df_cust=(df.withColumn(\"age\",F.round((F.datediff(F.current_date(),F.to_date(F.col(\"birthdate\"),format=\"M/d/yyyy\")))/365,2))\n",
    "         .select(F.col(\"ID\").alias(\"cust_id\"),\"title\",\"first_name\",\"last_name\",\"salary\",\"gender\",F.col(\"birthdate\").alias(\"dob\"),\"age\")\n",
    "         .where(F.trim(\"title\")!='')\n",
    "         .orderBy(\"ID\")\n",
    "        )\n",
    "\n",
    "df_cust.show(2)"
   ]
  },
  {
   "cell_type": "code",
   "execution_count": 60,
   "id": "7f7455a7",
   "metadata": {},
   "outputs": [
    {
     "name": "stdout",
     "output_type": "stream",
     "text": [
      "+-------------------+---------+-----+\n",
      "|              title|   salary|  age|\n",
      "+-------------------+---------+-----+\n",
      "|   Internal Auditor| 49756.53| 52.2|\n",
      "|      Accountant IV|150280.17|55.34|\n",
      "|Structural Engineer|144972.51| 63.3|\n",
      "+-------------------+---------+-----+\n",
      "only showing top 3 rows\n",
      "\n",
      "+-------------------+-------+----------+\n",
      "|              title|avg_age|avg_salary|\n",
      "+-------------------+-------+----------+\n",
      "|           61871.37|   null|      null|\n",
      "|Account Coordinator|  39.99|  84567.46|\n",
      "|  Account Executive|   45.6| 110939.16|\n",
      "+-------------------+-------+----------+\n",
      "only showing top 3 rows\n",
      "\n"
     ]
    }
   ],
   "source": [
    "#DF - title wise salary stats\n",
    "\n",
    "spark.sql(\"set spark.sql.legacy.timeParserPolicy=LEGACY\")\n",
    "df_sal_1=(df_cust.withColumn(\"age\",F.round((F.datediff(F.current_date(),F.to_date(F.col(\"dob\"),format=\"M/d/yyyy\")))/365,2))\n",
    "        .select(\"title\",\"salary\",\"age\")\n",
    "        #.show(5)\n",
    "        #.withColumn(\"dob_c\",F.to_date(\"dob\",format=\"M/d/yyyy\"))\n",
    ")\n",
    "df_sal_1.show(3)\n",
    "df_sal_stat=(df_sal_1.groupBy(\"title\")\n",
    "         .agg((F.round(F.avg(\"age\"),2)).alias(\"avg_age\"),F.round(F.avg(\"salary\"),2).alias(\"avg_salary\"))\n",
    "         .orderBy(\"title\")\n",
    ")\n",
    "df_sal_stat.show(3)"
   ]
  },
  {
   "cell_type": "code",
   "execution_count": 71,
   "id": "b9a91749",
   "metadata": {},
   "outputs": [
    {
     "name": "stdout",
     "output_type": "stream",
     "text": [
      "+-------+-------------------+----------+---------+---------+------+--------------------+-----+-------------------+-------+----------+\n",
      "|cust_id|              title|first_name|last_name|   salary|gender|                 dob|  age|              title|avg_age|avg_salary|\n",
      "+-------+-------------------+----------+---------+---------+------+--------------------+-----+-------------------+-------+----------+\n",
      "|    588|           61871.37|  Benjamin|  Wheeler|     null|  Male| Saint Eustatius ...| null|           61871.37|   null|      null|\n",
      "|    340|Account Coordinator|   Stephen|    Perry| 83759.68|  Male|            3/2/1986|37.21|Account Coordinator|  39.99|  84567.46|\n",
      "|    453|Account Coordinator|    Jeremy|  Bennett|193301.99|  Male|           1/19/1967|56.33|Account Coordinator|  39.99|  84567.46|\n",
      "+-------+-------------------+----------+---------+---------+------+--------------------+-----+-------------------+-------+----------+\n",
      "only showing top 3 rows\n",
      "\n"
     ]
    }
   ],
   "source": [
    "# joining both DF \n",
    "\n",
    "df_join=(df_cust.join(df_sal_stat,df_cust.title==df_sal_stat.title,\"inner\")\n",
    " \n",
    ")\n",
    "\n",
    "(df_cust.join(df_sal_stat,df_cust.title==df_sal_stat.title,\"full\")\n",
    " .show(3)\n",
    ")"
   ]
  },
  {
   "cell_type": "code",
   "execution_count": 86,
   "id": "f7cf3dc8",
   "metadata": {},
   "outputs": [
    {
     "name": "stdout",
     "output_type": "stream",
     "text": [
      "803\n",
      "360\n",
      "388\n",
      "748\n",
      "55\n"
     ]
    },
    {
     "name": "stderr",
     "output_type": "stream",
     "text": [
      "23/05/07 19:06:42 WARN HeartbeatReceiver: Removing executor driver with no recent heartbeats: 1306406 ms exceeds timeout 120000 ms\n",
      "23/05/07 19:06:42 WARN SparkContext: Killing executors is not supported by current scheduler.\n"
     ]
    }
   ],
   "source": [
    "#Union\n",
    "print(df_join.count())\n",
    "df_join_male=(df_join.where(F.col(\"gender\")=='Male'))\n",
    "print(df_join_male.count())\n",
    "df_join_female=(df_join.where(F.col(\"gender\")=='Female'))\n",
    "print(df_join_female.count())\n",
    "\n",
    "#Union-Merge of 2 DF\n",
    "\n",
    "df_join_2=df_join_male.union(df_join_female)\n",
    "print(df_join_2.count())\n",
    "\n",
    "print((df_join.where((F.col(\"gender\")!='Male') & (F.col(\"gender\")!='Female'))).count())"
   ]
  }
 ],
 "metadata": {
  "kernelspec": {
   "display_name": "Python 3 (ipykernel)",
   "language": "python",
   "name": "python3"
  },
  "language_info": {
   "codemirror_mode": {
    "name": "ipython",
    "version": 3
   },
   "file_extension": ".py",
   "mimetype": "text/x-python",
   "name": "python",
   "nbconvert_exporter": "python",
   "pygments_lexer": "ipython3",
   "version": "3.10.6"
  }
 },
 "nbformat": 4,
 "nbformat_minor": 5
}
